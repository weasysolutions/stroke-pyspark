{
 "cells": [
  {
   "cell_type": "markdown",
   "metadata": {
    "slideshow": {
     "slide_type": "slide"
    }
   },
   "source": [
    "# Lección I"
   ]
  },
  {
   "cell_type": "markdown",
   "metadata": {
    "slideshow": {
     "slide_type": "slide"
    }
   },
   "source": [
    "#### _<font color=blue>  Objetivo de la lección: </font>_\n",
    "\n",
    "<font color=blue>\n",
    "  Presentar el lenguaje de programación que estaremos usando: Python. \n",
    "</font>"
   ]
  },
  {
   "cell_type": "markdown",
   "metadata": {
    "slideshow": {
     "slide_type": "slide"
    }
   },
   "source": [
    "## Características Generales del Lenguaje "
   ]
  },
  {
   "cell_type": "markdown",
   "metadata": {
    "slideshow": {
     "slide_type": "fragment"
    }
   },
   "source": [
    "_Fuerte vs Dinámico_\n",
    "\n",
    "En computación  a menudo se usa el término _lenguaje fuertemente tecleado_ para referirse a un lenguaje que está _tipificado estáticamente_ (los tipos están asociados con una declaración de variable o, más generalmente, el compilador puede decir a qué tipo se refiere una variable) y _fuertemente tecleado_ (restrictivo sobre cómo se pueden mezclar los tipos). Por lo tanto, si nos fijamos en la tipificación dinámica y la tipificación fuerte como conceptos ortogonales: \n",
    "\n",
    "___<center>  Python puede teclearse dinámica y fuertemente <center>___\n"
   ]
  },
  {
   "cell_type": "markdown",
   "metadata": {
    "slideshow": {
     "slide_type": "slide"
    }
   },
   "source": [
    "#### _Orientado a Objectos vs Funcional_\n",
    "\n",
    "  El lenguaje **Python** soporta ambas.  \n",
    "\n",
    "FILOSOFÍA DE USO: _Al final hacemos uso de las funciones del lenguaje que hacen el trabajo con el código más corto y limpio posible. Si eso significa que mezclar ambas, entonces eso hacemos_\n"
   ]
  },
  {
   "cell_type": "markdown",
   "metadata": {
    "slideshow": {
     "slide_type": "slide"
    }
   },
   "source": [
    "**Python** distingue Mayúsculas y Minúsculas (_Case Sensitive_)\n"
   ]
  },
  {
   "cell_type": "code",
   "execution_count": 11,
   "metadata": {
    "scrolled": false,
    "slideshow": {
     "slide_type": "fragment"
    }
   },
   "outputs": [
    {
     "ename": "NameError",
     "evalue": "name 'X' is not defined",
     "output_type": "error",
     "traceback": [
      "\u001b[0;31m---------------------------------------------------------------------------\u001b[0m",
      "\u001b[0;31mNameError\u001b[0m                                 Traceback (most recent call last)",
      "\u001b[0;32m<ipython-input-11-37a8cd86d034>\u001b[0m in \u001b[0;36m<module>\u001b[0;34m()\u001b[0m\n\u001b[1;32m      1\u001b[0m \u001b[0;31m#Ejemplo\u001b[0m\u001b[0;34m\u001b[0m\u001b[0;34m\u001b[0m\u001b[0m\n\u001b[1;32m      2\u001b[0m \u001b[0mx\u001b[0m \u001b[0;34m=\u001b[0m \u001b[0;36m1\u001b[0m\u001b[0;34m\u001b[0m\u001b[0m\n\u001b[0;32m----> 3\u001b[0;31m \u001b[0mprint\u001b[0m\u001b[0;34m(\u001b[0m\u001b[0mX\u001b[0m\u001b[0;34m)\u001b[0m\u001b[0;34m\u001b[0m\u001b[0m\n\u001b[0m",
      "\u001b[0;31mNameError\u001b[0m: name 'X' is not defined"
     ]
    }
   ],
   "source": [
    "#Ejemplo\n",
    "x = 1\n",
    "print(X)"
   ]
  },
  {
   "cell_type": "markdown",
   "metadata": {
    "slideshow": {
     "slide_type": "slide"
    }
   },
   "source": [
    "#### Sin caracteres de terminación de declaración obligatorios"
   ]
  },
  {
   "cell_type": "code",
   "execution_count": 12,
   "metadata": {
    "slideshow": {
     "slide_type": "fragment"
    }
   },
   "outputs": [
    {
     "name": "stdout",
     "output_type": "stream",
     "text": [
      "este funciona\n",
      "este también\n"
     ]
    }
   ],
   "source": [
    "print('este funciona'),\n",
    "print('este también')"
   ]
  },
  {
   "cell_type": "markdown",
   "metadata": {
    "slideshow": {
     "slide_type": "slide"
    }
   },
   "source": [
    "### Asignación de Valores\n",
    "\n",
    "Los valores se asignan (de hecho, los objetos están vinculados a los nombres) con el signo igual (\"=\")\n",
    "\n",
    "La prueba de igualdad se realiza utilizando dos signos iguales (\"==\")\n",
    "\n"
   ]
  },
  {
   "cell_type": "code",
   "execution_count": 13,
   "metadata": {
    "slideshow": {
     "slide_type": "fragment"
    }
   },
   "outputs": [
    {
     "name": "stdout",
     "output_type": "stream",
     "text": [
      "1\n"
     ]
    },
    {
     "data": {
      "text/plain": [
       "True"
      ]
     },
     "execution_count": 13,
     "metadata": {},
     "output_type": "execute_result"
    }
   ],
   "source": [
    "#x vale 1\n",
    "x  = 1\n",
    "print(x)\n",
    "#Nos preguntamos si x vale 1\n",
    "x == 1"
   ]
  },
  {
   "cell_type": "markdown",
   "metadata": {
    "slideshow": {
     "slide_type": "slide"
    }
   },
   "source": [
    "### Asignación de Valores\n",
    "\n",
    "Puede aumentar/disminuir los valores utilizando los operadores + = y - =, respectivamente, por la cantidad del lado  derecho. Esto funciona en muchos tipos de datos, incluidas las cadenas.\n",
    "También puede utilizar múltiples variables en una línea."
   ]
  },
  {
   "cell_type": "code",
   "execution_count": 16,
   "metadata": {
    "slideshow": {
     "slide_type": "fragment"
    }
   },
   "outputs": [
    {
     "name": "stdout",
     "output_type": "stream",
     "text": [
      "2\n",
      "1 2\n"
     ]
    }
   ],
   "source": [
    "#Sumamos 1 a x\n",
    "x  = 1\n",
    "x += 1\n",
    "print(x)\n",
    "\n",
    "#Multiples variables en una línea\n",
    "x, y  = 1,2\n",
    "print(x,y)"
   ]
  },
  {
   "cell_type": "code",
   "execution_count": 17,
   "metadata": {
    "slideshow": {
     "slide_type": "fragment"
    }
   },
   "outputs": [
    {
     "name": "stdout",
     "output_type": "stream",
     "text": [
      "Hola mundo\n"
     ]
    }
   ],
   "source": [
    "#+= Funciona en cadenas\n",
    "var = 'Hola'\n",
    "var += ' mundo'\n",
    "print(var)"
   ]
  },
  {
   "cell_type": "markdown",
   "metadata": {
    "slideshow": {
     "slide_type": "slide"
    }
   },
   "source": [
    "### Tipos de Datos"
   ]
  },
  {
   "cell_type": "markdown",
   "metadata": {
    "slideshow": {
     "slide_type": "fragment"
    }
   },
   "source": [
    "Las estructuras de datos disponibles en python son _listas_, _tuplas_ y _diccionarios_. Los conjuntos están disponibles en la biblioteca de conjuntos. \n",
    "\n",
    "Las _listas_ son _como_ matrices unidimensionales (pero también puede tener listas de otras listas)\n",
    "\n",
    "Los _diccionarios_ son matrices asociativas (también conocidas como tablas hash) \n",
    "\n",
    "Las _tuplas_ son matrices unidimensionales inmutables \n",
    "\n",
    "**[las “matrices” de Python pueden ser de cualquier tipo, por lo que puede mezclar, por ejemplo, enteros, cadenas, etc. en listas / diccionarios / tuplas] **\n",
    "\n",
    "El índice del primer elemento en todos los tipos de matriz es 0. Los números negativos cuentan desde el final hasta el principio, -1 es el último elemento. Las variables pueden apuntar a funciones."
   ]
  },
  {
   "cell_type": "markdown",
   "metadata": {
    "slideshow": {
     "slide_type": "slide"
    }
   },
   "source": [
    "### Listas (Ejemplo)"
   ]
  },
  {
   "cell_type": "code",
   "execution_count": 46,
   "metadata": {
    "slideshow": {
     "slide_type": "fragment"
    }
   },
   "outputs": [],
   "source": [
    "ejemplo = [1, ['otra lista'], 'letras', ('esto es', 'una tupla')] #Lista Mezclada"
   ]
  },
  {
   "cell_type": "code",
   "execution_count": 47,
   "metadata": {
    "scrolled": true,
    "slideshow": {
     "slide_type": "fragment"
    }
   },
   "outputs": [
    {
     "name": "stdout",
     "output_type": "stream",
     "text": [
      "[1, 34, 'letras', 2.78]\n",
      "['ahora es caracter', 34, 'letras', 3.21]\n"
     ]
    }
   ],
   "source": [
    "milista = [1,34, 'letras',2.78] #Otra lista Mezclada\n",
    "print(milista)\n",
    "milista[0] = \"ahora es caracter\"  # Notemos que \" \" y ' 'son igualmente válidas\n",
    "milista[-1] = 3.21 # Nos referimos al último elemento.\n",
    "print(milista)"
   ]
  },
  {
   "cell_type": "markdown",
   "metadata": {
    "slideshow": {
     "slide_type": "slide"
    }
   },
   "source": [
    "### Diccionarios y Tuplas (Ejemplo)"
   ]
  },
  {
   "cell_type": "code",
   "execution_count": 49,
   "metadata": {
    "slideshow": {
     "slide_type": "fragment"
    }
   },
   "outputs": [],
   "source": [
    "#Dic\n",
    "midic = {\"llave 1\": \"valor 1\", 2: 3, \"euler\": 2.78}\n",
    "midic[\"euler\"] = 3 # Así cambiamos valores en los diccionario"
   ]
  },
  {
   "cell_type": "code",
   "execution_count": 1,
   "metadata": {
    "slideshow": {
     "slide_type": "fragment"
    }
   },
   "outputs": [],
   "source": [
    "#tupla\n",
    "mitupla = (1, 2, 3) # Note los parentesis"
   ]
  },
  {
   "cell_type": "markdown",
   "metadata": {
    "slideshow": {
     "slide_type": "slide"
    }
   },
   "source": [
    "### Asignacion de datos\n",
    "#### Las variables pueden apuntar a funciones"
   ]
  },
  {
   "cell_type": "code",
   "execution_count": 4,
   "metadata": {
    "scrolled": false,
    "slideshow": {
     "slide_type": "fragment"
    }
   },
   "outputs": [
    {
     "name": "stdout",
     "output_type": "stream",
     "text": [
      "6\n"
     ]
    }
   ],
   "source": [
    "ejemplo =[5,4,5,3,-1,0]\n",
    "\n",
    "#Apunta hacia la función predeterminada len\n",
    "mifuncion = len\n",
    "print(mifuncion(ejemplo))"
   ]
  },
  {
   "cell_type": "markdown",
   "metadata": {
    "slideshow": {
     "slide_type": "slide"
    }
   },
   "source": [
    " ### Asignacion de datos\n",
    " El siguiente codigo intercambia las variables en una línea.\n",
    " No viola la tipificación fuerte porque los valores no son\n",
    " siendo asignado realmente, pero los nuevos objetos están vinculados a\n",
    " los viejos nombres."
   ]
  },
  {
   "cell_type": "code",
   "execution_count": 56,
   "metadata": {
    "slideshow": {
     "slide_type": "fragment"
    }
   },
   "outputs": [],
   "source": [
    "x  = 1\n",
    "lista = 'hola'\n",
    "x, lista = lista, x"
   ]
  },
  {
   "cell_type": "markdown",
   "metadata": {
    "slideshow": {
     "slide_type": "slide"
    }
   },
   "source": [
    "### Matrices \n",
    "\n",
    "Puede acceder a los rangos de la matriz utilizando los dos puntos (:). \n",
    "\n",
    "Dejar el índice de inicio vacío supone el primer elemento, y el índice final supone el último elemento. \n",
    "La indexación es inclusiva-exclusiva, por lo que al especificar [2:10] se devolverán los ítems [2] (el tercer ítem, debido a la indexación 0) al [9] (el décimo ítem), inclusive (8 ítems). Los índices negativos se cuentan desde el último elemento hacia atrás (por lo tanto, -1 es el último elemento) así:"
   ]
  },
  {
   "cell_type": "code",
   "execution_count": 22,
   "metadata": {
    "scrolled": false,
    "slideshow": {
     "slide_type": "fragment"
    }
   },
   "outputs": [
    {
     "name": "stdout",
     "output_type": "stream",
     "text": [
      "['List item 1', 2, 3.14]\n",
      "['List item 1', 2]\n"
     ]
    }
   ],
   "source": [
    "milista = [\"List item 1\", 2, 3.14]\n",
    "print(milista[:])\n",
    "print(milista[0:2])"
   ]
  },
  {
   "cell_type": "markdown",
   "metadata": {
    "slideshow": {
     "slide_type": "slide"
    }
   },
   "source": [
    "### Matrices. Más ejemplos"
   ]
  },
  {
   "cell_type": "code",
   "execution_count": 23,
   "metadata": {
    "slideshow": {
     "slide_type": "fragment"
    }
   },
   "outputs": [
    {
     "name": "stdout",
     "output_type": "stream",
     "text": [
      "['List item 1', 2]\n",
      "[2, 3.14]\n",
      "['List item 1', 3.14]\n"
     ]
    }
   ],
   "source": [
    "milista = [\"List item 1\", 2, 3.14]\n",
    "print(milista[-3:-1])\n",
    "print(milista[1:])\n",
    "print(milista[::2])"
   ]
  },
  {
   "cell_type": "markdown",
   "metadata": {
    "slideshow": {
     "slide_type": "slide"
    }
   },
   "source": [
    "### Caracteres"
   ]
  },
  {
   "cell_type": "markdown",
   "metadata": {
    "slideshow": {
     "slide_type": "fragment"
    }
   },
   "source": [
    "Las cadenas pueden usar comillas simples o dobles, y puede tener comillas de un tipo dentro de una cadena que usa el otro tipo (es decir, \"Él dijo 'hola'\" es válido). \n",
    "\n",
    "Para llenar una cadena con valores, use el operado s% (módulo) y una tupla. Cada %s se reemplaza con un elemento de la tupla, de izquierda a derecha, como por ejemplo:"
   ]
  },
  {
   "cell_type": "code",
   "execution_count": 48,
   "metadata": {
    "slideshow": {
     "slide_type": "fragment"
    }
   },
   "outputs": [
    {
     "name": "stdout",
     "output_type": "stream",
     "text": [
      "Nombre: enrique, Numero: 3, Letra: ---\n"
     ]
    }
   ],
   "source": [
    "print(\"Nombre: %s,\\\n",
    " Numero: %s,\\\n",
    " Letra: %s\" % ('enrique' ,3, 3 * \"-\"))"
   ]
  },
  {
   "cell_type": "markdown",
   "metadata": {
    "slideshow": {
     "slide_type": "slide"
    }
   },
   "source": [
    "### Caracteres (Llaves)"
   ]
  },
  {
   "cell_type": "code",
   "execution_count": 24,
   "metadata": {
    "slideshow": {
     "slide_type": "fragment"
    }
   },
   "outputs": [
    {
     "name": "stdout",
     "output_type": "stream",
     "text": [
      "Esto es a prueba.\n",
      "Hola, Enrique!\n"
     ]
    }
   ],
   "source": [
    "#Atención a la s en \"%(llave)s\".\n",
    "print(\"Esto %(verbo)s a %(sustantivo)s.\" % {\"sustantivo\": \"prueba\", \"verbo\": \"es\"})\n",
    "name = \"Enrique\"\n",
    "print(f\"Hola, {name}!\")"
   ]
  },
  {
   "cell_type": "markdown",
   "metadata": {
    "slideshow": {
     "slide_type": "slide"
    }
   },
   "source": [
    "### Declaraciones de control de flujo\n",
    "Las declaraciones de control de flujo son **if**, **for** y **while**. No hay **switch**; en su lugar, use **if**. Use **for** para enumerar a través de miembros de una lista. Para obtener una lista de números, use la instrucción _rango(numero)_. La sintaxis de estas declaraciones es por lo tanto:\n"
   ]
  },
  {
   "cell_type": "code",
   "execution_count": 25,
   "metadata": {
    "scrolled": true,
    "slideshow": {
     "slide_type": "fragment"
    }
   },
   "outputs": [
    {
     "name": "stdout",
     "output_type": "stream",
     "text": [
      "range(0, 10)\n",
      "primer elemento 0\n"
     ]
    }
   ],
   "source": [
    "# Iteramos y comparamos usando la siguiente lista\n",
    "listarango = range(10)\n",
    "print(listarango)\n",
    "print('primer elemento', listarango[0])"
   ]
  },
  {
   "cell_type": "markdown",
   "metadata": {
    "slideshow": {
     "slide_type": "slide"
    }
   },
   "source": [
    "### For  (_Iteraciones_)"
   ]
  },
  {
   "cell_type": "code",
   "execution_count": 27,
   "metadata": {
    "slideshow": {
     "slide_type": "fragment"
    }
   },
   "outputs": [],
   "source": [
    "for numero in listarango:\n",
    "    # Verifica si el numero es uno de los numeros en la tupla.\n",
    "    if numero in (3, 4, 7, 9):\n",
    "        # Con 'break' rompemos la clausula  \n",
    "        break\n",
    "    else:\n",
    "        # \"Continue\" empieza la siguiente iteracion. No tiene algun uso aqui: es la ultima setencia del lazo  \n",
    "        continue\n",
    "else:\n",
    "    # Este 'else' es opcional y es ejecutado solo si el lazo no se rompe.\n",
    "    pass # No hacemos nada"
   ]
  },
  {
   "cell_type": "markdown",
   "metadata": {
    "slideshow": {
     "slide_type": "slide"
    }
   },
   "source": [
    "### If elif else (_Condicionales_)"
   ]
  },
  {
   "cell_type": "code",
   "execution_count": 15,
   "metadata": {
    "slideshow": {
     "slide_type": "fragment"
    }
   },
   "outputs": [
    {
     "name": "stdout",
     "output_type": "stream",
     "text": [
      "No lo sé\n"
     ]
    }
   ],
   "source": [
    "if listarango[1] == 2:\n",
    "    print(\"El segundo item (las listas basadas en cero) es 2\")\n",
    "elif listarango[1] == 3:\n",
    "    print(\"El segundo item (las listas basadas en cero) es 3\")\n",
    "else:\n",
    "    print(\"No lo sé\")"
   ]
  },
  {
   "cell_type": "markdown",
   "metadata": {
    "slideshow": {
     "slide_type": "slide"
    }
   },
   "source": [
    "### Los bloques se especifican por sangría. \n",
    "\n",
    "Sangrar para comenzar un bloque, des-sangrar para terminar uno. \n",
    "\n",
    "Las declaraciones que esperan un nivel de sangría terminan en dos puntos (:). Los comentarios comienzan con el signo de número (#) y son de una sola línea"
   ]
  },
  {
   "cell_type": "code",
   "execution_count": 54,
   "metadata": {
    "slideshow": {
     "slide_type": "fragment"
    }
   },
   "outputs": [
    {
     "name": "stdout",
     "output_type": "stream",
     "text": [
      "dentro del if\n",
      "fuera del if\n"
     ]
    }
   ],
   "source": [
    "#Esto es un comentario y no será compilado\n",
    "\n",
    "if True:\n",
    "    \n",
    "    #Sangria por que estamos dentro de un if\n",
    "    print('dentro del if')\n",
    "    \n",
    "#Sin sangría    \n",
    "print('fuera del if')    "
   ]
  },
  {
   "cell_type": "markdown",
   "metadata": {
    "slideshow": {
     "slide_type": "slide"
    }
   },
   "source": [
    "### def (_Funciones_)\n",
    "\n",
    "Las funciones se declaran con la palabra clave **def**. \n",
    "\n",
    "Los argumentos opcionales se establecen en la declaración de función después de los argumentos obligatorios al asignárseles un valor predeterminado.\n",
    "Para los argumentos con nombre, al nombre del argumento se le asigna un valor. Las funciones pueden devolver una tupla.\n"
   ]
  },
  {
   "cell_type": "code",
   "execution_count": 55,
   "metadata": {
    "slideshow": {
     "slide_type": "fragment"
    }
   },
   "outputs": [
    {
     "name": "stdout",
     "output_type": "stream",
     "text": [
      "([1, 2, 3, 'Un nuevo elemento'], 4, 'caracter por defecto')\n"
     ]
    }
   ],
   "source": [
    "# una_lista y un_entero son opcionales, tienen valores predeterminados \n",
    "# si alguno no ha sido pasado (2 and \"caracter por defecto\", respectivamente).\n",
    "def ejemplo_pase(una_lista, un_entero = 2, una_cadena = \"caracter por defecto\"):\n",
    "    una_lista.append(\"Un nuevo elemento\")\n",
    "    un_entero = 4\n",
    "    return una_lista, un_entero, una_cadena\n",
    "\n",
    "mi_lista = [1, 2, 3]\n",
    "mi_entero = 10\n",
    "print(ejemplo_pase(mi_lista, mi_entero))"
   ]
  },
  {
   "cell_type": "markdown",
   "metadata": {
    "slideshow": {
     "slide_type": "slide"
    }
   },
   "source": [
    "### Lambda (_Funciones_)\n",
    "Las funciones **Lambda** son funciones _ad hoc_ que se componen de una sola declaración. Los parámetros se pasan por _referencia_, pero los tipos inmutables (tuplas, ints, cadenas, etc.) no pueden ser cambiados en la llamada por el que llama."
   ]
  },
  {
   "cell_type": "code",
   "execution_count": 20,
   "metadata": {
    "slideshow": {
     "slide_type": "fragment"
    }
   },
   "outputs": [
    {
     "name": "stdout",
     "output_type": "stream",
     "text": [
      "10\n"
     ]
    }
   ],
   "source": [
    "# Lo mismo que  def funcvar(x): return x + 1\n",
    "funcvar = lambda x: x**2 + 1\n",
    "print(funcvar(3))"
   ]
  },
  {
   "cell_type": "markdown",
   "metadata": {
    "slideshow": {
     "slide_type": "slide"
    }
   },
   "source": [
    "### Clases\n",
    "\n",
    "Python admite una forma limitada de herencia múltiple en clases. Las variables y los métodos privados se pueden declarar (por _convención_, esto no se aplica en el idioma) agregando al menos dos guiones bajos y a lo más uno al final (por ejemplo, \\_\\_spam). \n",
    "\n",
    "También podemos vincular nombres arbitrarios a instancias de clase. Un ejemplo:"
   ]
  },
  {
   "cell_type": "code",
   "execution_count": 100,
   "metadata": {
    "slideshow": {
     "slide_type": "fragment"
    }
   },
   "outputs": [],
   "source": [
    "class MiClase(object):\n",
    "    comun = 10\n",
    "    def __init__(self): \n",
    "        self.mivariable = 3\n",
    "    def mifuncion(self, arg1, arg2):\n",
    "        return self.mivariable"
   ]
  },
  {
   "cell_type": "code",
   "execution_count": 101,
   "metadata": {
    "slideshow": {
     "slide_type": "fragment"
    }
   },
   "outputs": [
    {
     "data": {
      "text/plain": [
       "3"
      ]
     },
     "execution_count": 101,
     "metadata": {},
     "output_type": "execute_result"
    }
   ],
   "source": [
    "# Esta es la instanciación de clase.\n",
    "instancia_clase = MiClase()\n",
    "instancia_clase.mifuncion(1, 2)"
   ]
  },
  {
   "cell_type": "code",
   "execution_count": 102,
   "metadata": {
    "scrolled": true,
    "slideshow": {
     "slide_type": "fragment"
    }
   },
   "outputs": [
    {
     "name": "stdout",
     "output_type": "stream",
     "text": [
      "10 10\n"
     ]
    }
   ],
   "source": [
    "# Esta variable la comparten todas las clases\n",
    "instancia_clase_2 = MiClase()\n",
    "print(instancia_clase.comun, instancia_clase_2.comun)"
   ]
  },
  {
   "cell_type": "markdown",
   "metadata": {
    "slideshow": {
     "slide_type": "slide"
    }
   },
   "source": [
    "### Comportamiento de las Instancias (_Clases_)"
   ]
  },
  {
   "cell_type": "code",
   "execution_count": 103,
   "metadata": {
    "scrolled": true,
    "slideshow": {
     "slide_type": "fragment"
    }
   },
   "outputs": [
    {
     "name": "stdout",
     "output_type": "stream",
     "text": [
      "30\n",
      "30\n"
     ]
    }
   ],
   "source": [
    "\n",
    "# Observe cómo usamos el nombre de la clase en lugar de la instancia.\n",
    "MiClase.comun = 30\n",
    "print(instancia_clase.comun)\n",
    "print(instancia_clase_2.comun)"
   ]
  },
  {
   "cell_type": "code",
   "execution_count": 104,
   "metadata": {
    "slideshow": {
     "slide_type": "fragment"
    }
   },
   "outputs": [
    {
     "name": "stdout",
     "output_type": "stream",
     "text": [
      "1\n",
      "30\n"
     ]
    }
   ],
   "source": [
    "# Lo que sigue, no actualizará la variable en la clase, sino que enlazará \n",
    "# un nuevo objeto con el antiguo nombre de variable\n",
    "instancia_clase.comun = 1\n",
    "print(instancia_clase.comun)\n",
    "print(instancia_clase_2.comun)"
   ]
  },
  {
   "cell_type": "code",
   "execution_count": 105,
   "metadata": {
    "slideshow": {
     "slide_type": "fragment"
    }
   },
   "outputs": [
    {
     "name": "stdout",
     "output_type": "stream",
     "text": [
      "1\n",
      "50\n"
     ]
    }
   ],
   "source": [
    "# \"comun\" ahora es una variable de instancia.\n",
    "MiClase.comun = 50\n",
    "print(instancia_clase.comun)\n",
    "print(instancia_clase_2.comun)"
   ]
  },
  {
   "cell_type": "markdown",
   "metadata": {
    "slideshow": {
     "slide_type": "slide"
    }
   },
   "source": [
    "### Herencia de Clases\n"
   ]
  },
  {
   "cell_type": "code",
   "execution_count": 111,
   "metadata": {
    "slideshow": {
     "slide_type": "fragment"
    }
   },
   "outputs": [
    {
     "name": "stdout",
     "output_type": "stream",
     "text": [
      "hola\n"
     ]
    },
    {
     "data": {
      "text/plain": [
       "3"
      ]
     },
     "execution_count": 111,
     "metadata": {},
     "output_type": "execute_result"
    }
   ],
   "source": [
    "# Esta clase hereda de MiClase. La clase del ejemplo anterior hereda de\n",
    "#\"objeto\", (lo que la hace una \"clase de nuevo estilo\"). \n",
    "# La herencia múltiple se declara como: \n",
    "#class OtrasClases(MiClase1,MiClase2,MiClaseN)\n",
    "\n",
    "class OtrasClases(MiClase):\n",
    "    # El argumento \"self\" se pasa automáticamente y hace referencia \n",
    "    # a la instancia de clase,   puede establecer variables de instancia\n",
    "    # como lo hicimos arriba, pero dentro de la clase.\n",
    "    def __init__(self, arg1):\n",
    "        self.mivariable = 3\n",
    "        print(arg1)\n",
    "\n",
    "instancia_clase = OtrasClases(\"hola\")\n",
    "instancia_clase.mifuncion(1, 2)"
   ]
  },
  {
   "cell_type": "markdown",
   "metadata": {
    "slideshow": {
     "slide_type": "slide"
    }
   },
   "source": [
    "### Nuevos Miembros (_Clases_)"
   ]
  },
  {
   "cell_type": "code",
   "execution_count": 112,
   "metadata": {
    "slideshow": {
     "slide_type": "fragment"
    }
   },
   "outputs": [
    {
     "data": {
      "text/plain": [
       "100"
      ]
     },
     "execution_count": 112,
     "metadata": {},
     "output_type": "execute_result"
    }
   ],
   "source": [
    "# Esta clase no tiene un miembro .prueba, pero\n",
    "# podemos agregar uno a la instancia. Notemos\n",
    "# que este solo será un miembro de instancia_clase.\n",
    "instancia_clase.prueba = 100\n",
    "instancia_clase.prueba"
   ]
  },
  {
   "cell_type": "markdown",
   "metadata": {
    "slideshow": {
     "slide_type": "slide"
    }
   },
   "source": [
    "### Conclusiones\n",
    "\n",
    "Hemos visto algunas de las características más importantes del lenguaje **Python**. En la siguiente seccion usaremos librerias preestablecidas y que son especificas para el desarrollo de proyectos  de ciencia de datos"
   ]
  }
 ],
 "metadata": {
  "celltoolbar": "Slideshow",
  "kernelspec": {
   "display_name": "Python 3",
   "language": "python",
   "name": "python3"
  },
  "language_info": {
   "codemirror_mode": {
    "name": "ipython",
    "version": 3
   },
   "file_extension": ".py",
   "mimetype": "text/x-python",
   "name": "python",
   "nbconvert_exporter": "python",
   "pygments_lexer": "ipython3",
   "version": "3.6.4"
  }
 },
 "nbformat": 4,
 "nbformat_minor": 2
}
